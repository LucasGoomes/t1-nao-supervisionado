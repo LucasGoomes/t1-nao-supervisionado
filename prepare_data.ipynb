{
  "cells": [
    {
      "cell_type": "markdown",
      "metadata": {
        "id": "2BPTBXyE9WnM"
      },
      "source": [
        "## Importing the libraries"
      ]
    },
    {
      "cell_type": "code",
      "execution_count": 13,
      "metadata": {
        "id": "KJTcBy5v0ZLQ"
      },
      "outputs": [],
      "source": [
        "import pandas as pd\n",
        "import numpy as np\n",
        "import matplotlib.pyplot as plt\n",
        "from sklearn.preprocessing import StandardScaler, MinMaxScaler"
      ]
    },
    {
      "cell_type": "markdown",
      "metadata": {
        "id": "hmUsoG0x5MHj"
      },
      "source": [
        "## Loading the data\n"
      ]
    },
    {
      "cell_type": "code",
      "execution_count": 2,
      "metadata": {
        "colab": {
          "base_uri": "https://localhost:8080/",
          "height": 231
        },
        "id": "djsYhAaZ0-6j",
        "outputId": "2b061e09-2f40-4ff0-9e6e-a34f68f40936"
      },
      "outputs": [
        {
          "data": {
            "text/html": [
              "<div>\n",
              "<style scoped>\n",
              "    .dataframe tbody tr th:only-of-type {\n",
              "        vertical-align: middle;\n",
              "    }\n",
              "\n",
              "    .dataframe tbody tr th {\n",
              "        vertical-align: top;\n",
              "    }\n",
              "\n",
              "    .dataframe thead th {\n",
              "        text-align: right;\n",
              "    }\n",
              "</style>\n",
              "<table border=\"1\" class=\"dataframe\">\n",
              "  <thead>\n",
              "    <tr style=\"text-align: right;\">\n",
              "      <th></th>\n",
              "      <th>ID</th>\n",
              "      <th>Name</th>\n",
              "      <th>Age</th>\n",
              "      <th>Photo</th>\n",
              "      <th>Nationality</th>\n",
              "      <th>Flag</th>\n",
              "      <th>Overall</th>\n",
              "      <th>Potential</th>\n",
              "      <th>Club</th>\n",
              "      <th>Club Logo</th>\n",
              "      <th>...</th>\n",
              "      <th>SlidingTackle</th>\n",
              "      <th>GKDiving</th>\n",
              "      <th>GKHandling</th>\n",
              "      <th>GKKicking</th>\n",
              "      <th>GKPositioning</th>\n",
              "      <th>GKReflexes</th>\n",
              "      <th>Best Position</th>\n",
              "      <th>Best Overall Rating</th>\n",
              "      <th>Release Clause</th>\n",
              "      <th>DefensiveAwareness</th>\n",
              "    </tr>\n",
              "  </thead>\n",
              "  <tbody>\n",
              "    <tr>\n",
              "      <th>0</th>\n",
              "      <td>212198</td>\n",
              "      <td>Bruno Fernandes</td>\n",
              "      <td>26</td>\n",
              "      <td>https://cdn.sofifa.com/players/212/198/22_60.png</td>\n",
              "      <td>Portugal</td>\n",
              "      <td>https://cdn.sofifa.com/flags/pt.png</td>\n",
              "      <td>88</td>\n",
              "      <td>89</td>\n",
              "      <td>Manchester United</td>\n",
              "      <td>https://cdn.sofifa.com/teams/11/30.png</td>\n",
              "      <td>...</td>\n",
              "      <td>65.0</td>\n",
              "      <td>12.0</td>\n",
              "      <td>14.0</td>\n",
              "      <td>15.0</td>\n",
              "      <td>8.0</td>\n",
              "      <td>14.0</td>\n",
              "      <td>CAM</td>\n",
              "      <td>88.0</td>\n",
              "      <td>€206.9M</td>\n",
              "      <td>72.0</td>\n",
              "    </tr>\n",
              "    <tr>\n",
              "      <th>1</th>\n",
              "      <td>209658</td>\n",
              "      <td>L. Goretzka</td>\n",
              "      <td>26</td>\n",
              "      <td>https://cdn.sofifa.com/players/209/658/22_60.png</td>\n",
              "      <td>Germany</td>\n",
              "      <td>https://cdn.sofifa.com/flags/de.png</td>\n",
              "      <td>87</td>\n",
              "      <td>88</td>\n",
              "      <td>FC Bayern München</td>\n",
              "      <td>https://cdn.sofifa.com/teams/21/30.png</td>\n",
              "      <td>...</td>\n",
              "      <td>77.0</td>\n",
              "      <td>13.0</td>\n",
              "      <td>8.0</td>\n",
              "      <td>15.0</td>\n",
              "      <td>11.0</td>\n",
              "      <td>9.0</td>\n",
              "      <td>CM</td>\n",
              "      <td>87.0</td>\n",
              "      <td>€160.4M</td>\n",
              "      <td>74.0</td>\n",
              "    </tr>\n",
              "  </tbody>\n",
              "</table>\n",
              "<p>2 rows × 65 columns</p>\n",
              "</div>"
            ],
            "text/plain": [
              "       ID             Name  Age  \\\n",
              "0  212198  Bruno Fernandes   26   \n",
              "1  209658      L. Goretzka   26   \n",
              "\n",
              "                                              Photo Nationality  \\\n",
              "0  https://cdn.sofifa.com/players/212/198/22_60.png    Portugal   \n",
              "1  https://cdn.sofifa.com/players/209/658/22_60.png     Germany   \n",
              "\n",
              "                                  Flag  Overall  Potential               Club  \\\n",
              "0  https://cdn.sofifa.com/flags/pt.png       88         89  Manchester United   \n",
              "1  https://cdn.sofifa.com/flags/de.png       87         88  FC Bayern München   \n",
              "\n",
              "                                Club Logo  ... SlidingTackle GKDiving  \\\n",
              "0  https://cdn.sofifa.com/teams/11/30.png  ...          65.0     12.0   \n",
              "1  https://cdn.sofifa.com/teams/21/30.png  ...          77.0     13.0   \n",
              "\n",
              "   GKHandling GKKicking  GKPositioning  GKReflexes  Best Position  \\\n",
              "0        14.0      15.0            8.0        14.0            CAM   \n",
              "1         8.0      15.0           11.0         9.0             CM   \n",
              "\n",
              "  Best Overall Rating Release Clause DefensiveAwareness  \n",
              "0                88.0        €206.9M               72.0  \n",
              "1                87.0        €160.4M               74.0  \n",
              "\n",
              "[2 rows x 65 columns]"
            ]
          },
          "execution_count": 2,
          "metadata": {},
          "output_type": "execute_result"
        }
      ],
      "source": [
        "df = pd.read_csv('data/FIFA22_official_data.csv')\n",
        "df.head(2)"
      ]
    },
    {
      "cell_type": "markdown",
      "metadata": {
        "id": "m9ZYVC0X5KPT"
      },
      "source": [
        "## Cleaning and transforming the data\n"
      ]
    },
    {
      "cell_type": "code",
      "execution_count": 26,
      "metadata": {},
      "outputs": [],
      "source": [
        "# TODO AFTER APPLY THE ALGORITHMS:\n",
        "# Keeping track of the players names so we can plot the names in the clusters\n",
        "\"\"\"\n",
        "player_names = pd.read_csv('player_names.csv')  \n",
        "  \n",
        "# Assigning clusters to players  \n",
        "player_clusters = {name: cluster for name, cluster in zip(player_names, kmeans.labels_)} \n",
        "\n",
        "\"\"\"\n",
        "player_names = df['Name']\n",
        "player_names.to_csv('data/prepared_data/player_names.csv', index=False)  "
      ]
    },
    {
      "cell_type": "code",
      "execution_count": 3,
      "metadata": {
        "id": "h9aTDIO51A9R"
      },
      "outputs": [],
      "source": [
        "def clean_data(df):\n",
        "  # Drop unsued columns\n",
        "  columns_to_drop = ['ID', 'Name', 'Photo', 'Nationality', 'Flag', 'Club', 'Club Logo', 'Special', 'Real Face', 'Position', 'Jersey Number', 'Joined', 'Loaned From', 'Contract Valid Until', 'Best Overall Rating']\n",
        "  df_cleaned = df = df.drop(columns_to_drop, axis=1)\n",
        "\n",
        "  # Convert types and conventions\n",
        "  df_cleaned['Value'] = df_cleaned['Value'].str.replace('€', '').str.replace('M', '').str.replace('K', '').astype(float)\n",
        "  df_cleaned['Wage'] = df_cleaned['Wage'].str.replace('€', '').str.replace('M', '').str.replace('K', '').astype(float)\n",
        "  df_cleaned['Release Clause'] = df_cleaned['Release Clause'].str.replace('€', '').str.replace('M', '').str.replace('K', '').astype(float)\n",
        "  df_cleaned['Weight'] = df_cleaned['Weight'].apply(weight_to_kg)\n",
        "  df_cleaned['Height'] = df_cleaned['Height'].apply(height_to_cm)\n",
        "\n",
        "  return df_cleaned\n",
        "\n",
        "def weight_to_kg(s):\n",
        "    if 'kg' in s:\n",
        "        return float(s.replace('kg', ''))\n",
        "    else:\n",
        "        return float(s.strip('lbs')) * 0.453592\n",
        "\n",
        "def height_to_cm(s):\n",
        "    if 'cm' in s:\n",
        "        return float(s.replace('cm', ''))\n",
        "    else:\n",
        "        # Convert feet'inches\" to cm\n",
        "        feet, inches = map(int, s.split(\"'\"))\n",
        "        return (feet * 30.48) + (inches * 2.54)"
      ]
    },
    {
      "cell_type": "code",
      "execution_count": 6,
      "metadata": {
        "id": "hGqB0-_Z2qOv"
      },
      "outputs": [],
      "source": [
        "df_cleaned = clean_data(df)"
      ]
    },
    {
      "cell_type": "markdown",
      "metadata": {
        "id": "a_eD4vJi8P30"
      },
      "source": [
        "# Preparing the data to apply the K-MEANS algorithm"
      ]
    },
    {
      "cell_type": "code",
      "execution_count": 30,
      "metadata": {
        "id": "coGc_KqA1tkG"
      },
      "outputs": [],
      "source": [
        "def prepare_data_to_kmeans(df, save = True, position_name=None):\n",
        "  df_numeric = df.select_dtypes(include=[np.number])\n",
        "\n",
        "  df_numeric = df_numeric.fillna(df_numeric.mean())\n",
        "\n",
        "  if position_name:  \n",
        "    df_numeric.to_csv(f'data/cleaned_data/{position_name}_original.csv', index=False)\n",
        "\n",
        "  scaler = MinMaxScaler(feature_range=(0,1))\n",
        "  df_standard = scaler.fit_transform(df_numeric)\n",
        "\n",
        "  df_kmeans = pd.DataFrame(df_standard, columns=df_numeric.columns)\n",
        "\n",
        "  if save:\n",
        "    df_kmeans.to_csv('data/prepared_data/fifa_data_to_kmeans2.csv')\n",
        "  return df_kmeans"
      ]
    },
    {
      "cell_type": "code",
      "execution_count": 16,
      "metadata": {
        "id": "i35_ZJDo9t0_"
      },
      "outputs": [],
      "source": [
        "df_kmeans = prepare_data_to_kmeans(df_cleaned)"
      ]
    },
    {
      "cell_type": "code",
      "execution_count": 17,
      "metadata": {
        "colab": {
          "base_uri": "https://localhost:8080/",
          "height": 214
        },
        "id": "VSXr7Tmw91vL",
        "outputId": "f093f8f7-93e8-416a-e5f9-bd261cd93b23"
      },
      "outputs": [
        {
          "data": {
            "text/html": [
              "<div>\n",
              "<style scoped>\n",
              "    .dataframe tbody tr th:only-of-type {\n",
              "        vertical-align: middle;\n",
              "    }\n",
              "\n",
              "    .dataframe tbody tr th {\n",
              "        vertical-align: top;\n",
              "    }\n",
              "\n",
              "    .dataframe thead th {\n",
              "        text-align: right;\n",
              "    }\n",
              "</style>\n",
              "<table border=\"1\" class=\"dataframe\">\n",
              "  <thead>\n",
              "    <tr style=\"text-align: right;\">\n",
              "      <th></th>\n",
              "      <th>Height</th>\n",
              "      <th>Weight</th>\n",
              "      <th>Crossing</th>\n",
              "      <th>Finishing</th>\n",
              "      <th>HeadingAccuracy</th>\n",
              "      <th>ShortPassing</th>\n",
              "      <th>Volleys</th>\n",
              "      <th>Dribbling</th>\n",
              "      <th>Curve</th>\n",
              "      <th>FKAccuracy</th>\n",
              "      <th>...</th>\n",
              "      <th>Composure</th>\n",
              "      <th>Marking</th>\n",
              "      <th>StandingTackle</th>\n",
              "      <th>SlidingTackle</th>\n",
              "      <th>GKDiving</th>\n",
              "      <th>GKHandling</th>\n",
              "      <th>GKKicking</th>\n",
              "      <th>GKPositioning</th>\n",
              "      <th>GKReflexes</th>\n",
              "      <th>DefensiveAwareness</th>\n",
              "    </tr>\n",
              "  </thead>\n",
              "  <tbody>\n",
              "    <tr>\n",
              "      <th>0</th>\n",
              "      <td>0.470588</td>\n",
              "      <td>0.327869</td>\n",
              "      <td>0.919540</td>\n",
              "      <td>0.869565</td>\n",
              "      <td>0.670455</td>\n",
              "      <td>0.965116</td>\n",
              "      <td>0.965116</td>\n",
              "      <td>0.857143</td>\n",
              "      <td>0.920455</td>\n",
              "      <td>0.922222</td>\n",
              "      <td>...</td>\n",
              "      <td>0.892857</td>\n",
              "      <td>0.489126</td>\n",
              "      <td>0.777778</td>\n",
              "      <td>0.662921</td>\n",
              "      <td>0.122222</td>\n",
              "      <td>0.142857</td>\n",
              "      <td>0.152174</td>\n",
              "      <td>0.076087</td>\n",
              "      <td>0.146067</td>\n",
              "      <td>0.766667</td>\n",
              "    </tr>\n",
              "    <tr>\n",
              "      <th>1</th>\n",
              "      <td>0.666667</td>\n",
              "      <td>0.540984</td>\n",
              "      <td>0.781609</td>\n",
              "      <td>0.858696</td>\n",
              "      <td>0.920455</td>\n",
              "      <td>0.906977</td>\n",
              "      <td>0.755814</td>\n",
              "      <td>0.868132</td>\n",
              "      <td>0.795455</td>\n",
              "      <td>0.788889</td>\n",
              "      <td>...</td>\n",
              "      <td>0.833333</td>\n",
              "      <td>0.489126</td>\n",
              "      <td>0.911111</td>\n",
              "      <td>0.797753</td>\n",
              "      <td>0.133333</td>\n",
              "      <td>0.076923</td>\n",
              "      <td>0.152174</td>\n",
              "      <td>0.108696</td>\n",
              "      <td>0.089888</td>\n",
              "      <td>0.788889</td>\n",
              "    </tr>\n",
              "  </tbody>\n",
              "</table>\n",
              "<p>2 rows × 37 columns</p>\n",
              "</div>"
            ],
            "text/plain": [
              "     Height    Weight  Crossing  Finishing  HeadingAccuracy  ShortPassing  \\\n",
              "0  0.470588  0.327869  0.919540   0.869565         0.670455      0.965116   \n",
              "1  0.666667  0.540984  0.781609   0.858696         0.920455      0.906977   \n",
              "\n",
              "    Volleys  Dribbling     Curve  FKAccuracy  ...  Composure   Marking  \\\n",
              "0  0.965116   0.857143  0.920455    0.922222  ...   0.892857  0.489126   \n",
              "1  0.755814   0.868132  0.795455    0.788889  ...   0.833333  0.489126   \n",
              "\n",
              "   StandingTackle  SlidingTackle  GKDiving  GKHandling  GKKicking  \\\n",
              "0        0.777778       0.662921  0.122222    0.142857   0.152174   \n",
              "1        0.911111       0.797753  0.133333    0.076923   0.152174   \n",
              "\n",
              "   GKPositioning  GKReflexes  DefensiveAwareness  \n",
              "0       0.076087    0.146067            0.766667  \n",
              "1       0.108696    0.089888            0.788889  \n",
              "\n",
              "[2 rows x 37 columns]"
            ]
          },
          "execution_count": 17,
          "metadata": {},
          "output_type": "execute_result"
        }
      ],
      "source": [
        "df_kmeans2.head(2)"
      ]
    },
    {
      "cell_type": "markdown",
      "metadata": {},
      "source": [
        "## Creating a new k-means df for each position"
      ]
    },
    {
      "cell_type": "code",
      "execution_count": 38,
      "metadata": {},
      "outputs": [],
      "source": [
        "def clean_data_2(df):\n",
        "  # Drop unsued columns\n",
        "  columns_to_drop = ['ID', 'Name', 'Photo', 'Nationality', 'Flag', 'Club', 'Club Logo', 'Special', 'Real Face', 'Position', 'Jersey Number', 'Joined', 'Loaned From', 'Contract Valid Until', 'Best Overall Rating'\n",
        "                     ,'Age', 'Overall', 'Potential', 'Value', 'Wage', 'International Reputation', 'Weak Foot', 'Skill Moves', 'Release Clause']\n",
        "  df_cleaned = df = df.drop(columns_to_drop, axis=1)\n",
        "\n",
        "  # Convert types and conventions\n",
        "  df_cleaned['Weight'] = df_cleaned['Weight'].apply(weight_to_kg)\n",
        "  df_cleaned['Height'] = df_cleaned['Height'].apply(height_to_cm)\n",
        "\n",
        "  return df_cleaned"
      ]
    },
    {
      "cell_type": "code",
      "execution_count": 34,
      "metadata": {},
      "outputs": [],
      "source": [
        "def prepare_data_to_kmeans2(df, save = True, position_name=None):\n",
        "  # Select only numeric columns\n",
        "  df_numeric = df.select_dtypes(include=[np.number])\n",
        "\n",
        "  # Fill any NaN values with the mean of the column\n",
        "  df_numeric = df_numeric.fillna(df_numeric.mean())\n",
        "\n",
        "  # Save the original data i\n",
        "  df_numeric.to_csv(f'data/cleaned_data/{position_name}_original.csv', index=False)\n",
        "\n",
        "  # Normalize the data\n",
        "  scaler = MinMaxScaler(feature_range=(0,1))\n",
        "  df_standard = scaler.fit_transform(df_numeric)\n",
        "\n",
        "  df_kmeans = pd.DataFrame(df_standard, columns=df_numeric.columns)\n",
        "\n",
        "  # Save and return the new df\n",
        "  if save:\n",
        "    df_kmeans.to_csv('data/prepared_data/fifa_data_to_kmeans2.csv')\n",
        "  return df_kmeans"
      ]
    },
    {
      "cell_type": "code",
      "execution_count": 35,
      "metadata": {},
      "outputs": [],
      "source": [
        "def clean_data_by_positions(df, positions, position_name):  \n",
        "    # Extract the position after '>'  \n",
        "    df['Position'] = df['Position'].apply(lambda x: x.split('>')[-1].strip() if isinstance(x, str) else x)  \n",
        "      \n",
        "    # Create a new dataframe for these positions  \n",
        "    df_positions = df[df['Position'].isin(positions)]  \n",
        "\n",
        "    # Save the player names to a csv file  \n",
        "    player_names = df_positions['Name']  \n",
        "    player_names.to_csv(f'data/prepared_data/by_position/kmeans/{position_name}_names.csv', index=False)  \n",
        "\n",
        "    df_cleaned = clean_data(df_positions)  \n",
        "  \n",
        "    if df_cleaned.empty:  \n",
        "        print(f\"No data for positions {positions}. Skipping...\")  \n",
        "        return  \n",
        "    \n",
        "    df_kmeans = prepare_data_to_kmeans2(df_cleaned, False, position_name)  \n",
        "\n",
        "    df_kmeans.to_csv(f'data/prepared_data/by_position/kmeans/{position_name}.csv', index=False)  "
      ]
    },
    {
      "cell_type": "code",
      "execution_count": 36,
      "metadata": {},
      "outputs": [],
      "source": [
        "clean_data_by_positions(df, ['RCM', 'LCM', 'CM'], 'CM')  \n",
        "clean_data_by_positions(df, ['LDM', 'RDM', 'CDM'], 'CDM')\n",
        "clean_data_by_positions(df, ['RS', 'LS', 'ST'], 'ST')\n",
        "clean_data_by_positions(df, ['CAM', 'RAM', 'LAM'], 'CAM')\n",
        "clean_data_by_positions(df, ['LCB', 'RCB', 'CB'], 'CB')\n",
        "clean_data_by_positions(df, ['CF', 'LF', 'RF'], 'CF')\n",
        "clean_data_by_positions(df, ['RWB', 'RB'], 'RB')\n",
        "clean_data_by_positions(df, ['LWB', 'LB'], 'LB')\n",
        "clean_data_by_positions(df, ['GK'], 'GK')"
      ]
    },
    {
      "cell_type": "code",
      "execution_count": 29,
      "metadata": {},
      "outputs": [],
      "source": [
        "def clean_data_by_positions2(df, positions, position_name):  \n",
        "    # Extract the position after '>'  \n",
        "    df['Position'] = df['Position'].apply(lambda x: x.split('>')[-1].strip() if isinstance(x, str) else x)  \n",
        "      \n",
        "    # Create a new dataframe for these positions  \n",
        "    df_positions = df[df['Position'].isin(positions)]  \n",
        "\n",
        "    # Save the player names to a csv file  \n",
        "    player_names = df_positions['Name']  \n",
        "    player_names.to_csv(f'data/prepared_data_2/by_position/kmeans/{position_name}_names.csv', index=False)  \n",
        "\n",
        "    df_cleaned = clean_data_2(df_positions)  \n",
        "  \n",
        "    if df_cleaned.empty:  \n",
        "        print(f\"No data for positions {positions}. Skipping...\")  \n",
        "        return  \n",
        "    \n",
        "    df_kmeans = prepare_data_to_kmeans(df_cleaned, False)  \n",
        "\n",
        "    df_kmeans.to_csv(f'data/prepared_data_2/by_position/kmeans/{position_name}.csv', index=False)  "
      ]
    },
    {
      "cell_type": "code",
      "execution_count": 27,
      "metadata": {},
      "outputs": [],
      "source": [
        "clean_data_by_positions2(df, ['RCM', 'LCM', 'CM'], 'CM')  \n",
        "clean_data_by_positions2(df, ['LDM', 'RDM', 'CDM'], 'CDM')\n",
        "clean_data_by_positions2(df, ['RS', 'LS', 'ST'], 'ST')\n",
        "clean_data_by_positions2(df, ['CAM', 'RAM', 'LAM'], 'CAM')\n",
        "clean_data_by_positions2(df, ['LCB', 'RCB', 'CB'], 'CB')\n",
        "clean_data_by_positions2(df, ['CF', 'LF', 'RF'], 'CF')\n",
        "clean_data_by_positions2(df, ['RWB', 'RB'], 'RB')\n",
        "clean_data_by_positions2(df, ['LWB', 'LB'], 'LB')\n",
        "clean_data_by_positions2(df, ['GK'], 'GK')"
      ]
    }
  ],
  "metadata": {
    "colab": {
      "provenance": []
    },
    "kernelspec": {
      "display_name": "Python 3",
      "name": "python3"
    },
    "language_info": {
      "codemirror_mode": {
        "name": "ipython",
        "version": 3
      },
      "file_extension": ".py",
      "mimetype": "text/x-python",
      "name": "python",
      "nbconvert_exporter": "python",
      "pygments_lexer": "ipython3",
      "version": "3.10.0"
    }
  },
  "nbformat": 4,
  "nbformat_minor": 0
}
